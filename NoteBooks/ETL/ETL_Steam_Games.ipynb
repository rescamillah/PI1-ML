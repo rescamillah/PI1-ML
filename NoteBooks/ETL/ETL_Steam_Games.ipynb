{
 "cells": [
  {
   "cell_type": "markdown",
   "metadata": {},
   "source": [
    "### ETL Steam Games\n",
    "\n",
    "Este Archivo de trabajo, contiene las instrucciones necesarias para ejecutar la extración, transformación y carga del archivo \"steam_games.json\".\n",
    "\n",
    "La intención inicial del documento, es mostrar el paso a paso de la extracción de la información, explicar y justificar cada una de las instrucciones ejecutadas para la transformación del archivo y brindar como resultado un archivo limpio en formato CSV."
   ]
  },
  {
   "cell_type": "code",
   "execution_count": 1,
   "metadata": {},
   "outputs": [],
   "source": [
    "# Se importan las librerías necesarias para trabajar con archivos de tipo json\n",
    "import pandas as pd # Se utiliza pandas para trabajar con dataframes\n",
    "import json # Se utiliza json para la lectura de archivos en este formato\n",
    "import numpy as np # Se utiliza para operaciones matematicas dentro del dataframe"
   ]
  },
  {
   "cell_type": "code",
   "execution_count": 2,
   "metadata": {},
   "outputs": [],
   "source": [
    "# Se comienza con la lectura del archivo json y colocar su contenido en un dataframe de pandas\n",
    "Ruta_Json = '..\\..\\Inputs Originales\\output_steam_games.json' # Guardamos la ruta del archivo json a leer en una variable\n",
    "\n",
    "# Procedemos a leer el archivo json\n",
    "with open(Ruta_Json, 'r') as archivo: # Se lee el archivo json utilizando la variable json\n",
    "    # Debido a que cada línea de nuestro archivo es un objeto de tipo json, se procede a leer cada línea del archivo y se guarda en una lista general\n",
    "    Contenido = [json.loads(linea) for linea in archivo] # Se carga en una lista cada línea leída del archivo\n",
    "\n",
    "df_Steam_Games = pd.DataFrame(Contenido) # Se convierte en data frame el resultado de la lectura del archivo json"
   ]
  },
  {
   "cell_type": "code",
   "execution_count": 3,
   "metadata": {},
   "outputs": [
    {
     "name": "stdout",
     "output_type": "stream",
     "text": [
      "<class 'pandas.core.frame.DataFrame'>\n",
      "RangeIndex: 120445 entries, 0 to 120444\n",
      "Data columns (total 13 columns):\n",
      " #   Column        Non-Null Count  Dtype \n",
      "---  ------        --------------  ----- \n",
      " 0   publisher     24083 non-null  object\n",
      " 1   genres        28852 non-null  object\n",
      " 2   app_name      32133 non-null  object\n",
      " 3   title         30085 non-null  object\n",
      " 4   url           32135 non-null  object\n",
      " 5   release_date  30068 non-null  object\n",
      " 6   tags          31972 non-null  object\n",
      " 7   reviews_url   32133 non-null  object\n",
      " 8   specs         31465 non-null  object\n",
      " 9   price         30758 non-null  object\n",
      " 10  early_access  32135 non-null  object\n",
      " 11  id            32133 non-null  object\n",
      " 12  developer     28836 non-null  object\n",
      "dtypes: object(13)\n",
      "memory usage: 11.9+ MB\n"
     ]
    }
   ],
   "source": [
    "# Ahora que tenemos un Dataframe con la información del archivo, comenzamos a explorar el contenido y realizamos ciertos trabajos de limpieza\n",
    "\n",
    "# Analizamos la estructura y contenido del dataframe\n",
    "df_Steam_Games.info() # Nos muestra la información general del dataframe\n",
    "# Por ahora, tenemos un total de 13 columnas de tipo objeto"
   ]
  },
  {
   "cell_type": "code",
   "execution_count": 4,
   "metadata": {},
   "outputs": [
    {
     "name": "stdout",
     "output_type": "stream",
     "text": [
      "Total de filas en el DataFrame:  120445\n",
      "Total de registros vacíos por columna:  publisher       96362\n",
      "genres          91593\n",
      "app_name        88312\n",
      "title           90360\n",
      "url             88310\n",
      "release_date    90377\n",
      "tags            88473\n",
      "reviews_url     88312\n",
      "specs           88980\n",
      "price           89687\n",
      "early_access    88310\n",
      "id              88312\n",
      "developer       91609\n",
      "dtype: int64\n",
      "Total de filas en el DataFrame sin registros vacíos:  22521\n"
     ]
    }
   ],
   "source": [
    "# haciendo un análisis estadístico del Dataframe, veremos cuántos registros contiene, el total de vacíos y duplicados\n",
    "\n",
    "print(\"Total de filas en el DataFrame: \", df_Steam_Games.shape[0]) # Mostramos el total de registros del DataFrame \n",
    "# Se tiene un total de 120,445 registros dentro del archivo\n",
    "print(\"Total de registros vacíos por columna: \", df_Steam_Games.isnull().sum()) # Mostramos el total de registros vacíos\n",
    "\n",
    "# Se reemplazan los valores vacíos descritos como 'null', 'None' con NaN en todo el DataFrame\n",
    "df_Steam_Games.replace(['', 'null', 'None'], np.nan, inplace=True) # Se guardel resultaddo en el DataFrame\n",
    "# Se procede a eliminar aquellos registros que estén vacíos\n",
    "df_Steam_Games.dropna(inplace = True) # Se guarda el resultado en el mismo dataframe\n",
    "print(\"Total de filas en el DataFrame sin registros vacíos: \", df_Steam_Games.shape[0]) # Mostramos el total de registros del DataFrame \n",
    "# Se tiene un total de 22,521 registros dentro del archivo\n",
    "# Con esta eliminación, se da a notar que aproximadamente el 81% del contenido del archivo eran registros vacíos"
   ]
  },
  {
   "cell_type": "code",
   "execution_count": 5,
   "metadata": {},
   "outputs": [],
   "source": [
    "# Seguimos analizando de forma general la estadística de cada columna\n",
    "df_Steam_Games.describe() # Se muestra la descripción general del DataFrame\n",
    "# Se muestra que hay un ID repetido, después de analizarlo, nos damos cuenta que hay que eliminar el primer registro duplicado\n",
    "df_Steam_Games = df_Steam_Games.drop_duplicates(subset='id', keep='last') # Eliminamos el primer registro duplicado"
   ]
  },
  {
   "cell_type": "code",
   "execution_count": 6,
   "metadata": {},
   "outputs": [],
   "source": [
    "# Modificamos el orden de las columnas, para establecer el Id como el índice del dataframe y actualizamos su valor\n",
    "df_Steam_Games.rename(columns={'app_name': 'name', 'id': 'item_id'}, inplace=True) # Renombramos dos columnas\n",
    "df_Steam_Games = df_Steam_Games[[\"item_id\"] + [col for col in df_Steam_Games.columns if col != \"item_id\"]] # Se reorganizan las columnas, para poder la columna \"item_id\" en primera posición\n",
    "df_Steam_Games.sort_index(inplace = True) # Se ordena el dataframe por su ID de forma ascendente"
   ]
  },
  {
   "cell_type": "code",
   "execution_count": 7,
   "metadata": {},
   "outputs": [],
   "source": [
    "# Se convierte la columna 'genres' a un tipo lista y no string\n",
    "# Se aplica función lambda para aplicar las condiciones a cada fila\n",
    "df_Steam_Games['genres'] = df_Steam_Games['genres'].apply(lambda x: ast.literal_eval(x) if isinstance(x, str) else x)\n",
    "# Se convierte la columna \"tags\" a un tipo lista y no un string\n",
    "df_Steam_Games['tags'] = df_Steam_Games['tags'].apply(lambda x: ast.literal_eval(x) if isinstance(x, str) else x)\n",
    "\n",
    "# Se expanden los valores obtenidos en las columnas genres, tags y specs y se guardan en un nuevo dataframe\n",
    "df_Steam_Games = df_Steam_Games.explode('genres') # Se expanden los valores de genres\n",
    "df_Steam_Games = df_Steam_Games.explode('tags') # Se expanden los valores de tags\n",
    "df_Steam_Games = df_Steam_Games.explode('specs') # Se expanden los valores de specs"
   ]
  },
  {
   "cell_type": "code",
   "execution_count": 8,
   "metadata": {},
   "outputs": [],
   "source": [
    "# Con la finalidad de hacer más optimo nuestro dataframe, se eliminan aquellas columnas que no se consideran relevantes para el análisis\n",
    "df_Steam_Games = df_Steam_Games.drop(['title','url','reviews_url','price','early_access'], axis=1) # Se procede a eliminar aquellas columnas que no serían útiles para el análisis o que se pueden obtener desde otro csv\n",
    "df_Steam_Games = df_Steam_Games.drop_duplicates(keep='first') # Se liminan duplicados del dataframe\n",
    "df_Steam_Games.dropna(inplace = True) # Se eliminan los registros vacíos"
   ]
  },
  {
   "cell_type": "code",
   "execution_count": 9,
   "metadata": {},
   "outputs": [],
   "source": [
    "# Guardamos nuestro Dataframe final en un archivo de tipo CSV Limpio\n",
    "df_Steam_Games.to_csv('..\\..\\Archivos Limpios\\output_steam_games_limpio.csv', index=False)"
   ]
  },
  {
   "cell_type": "markdown",
   "metadata": {},
   "source": [
    "# Por ahora, se ha terminado con la limpieza de la información del archivo steam games"
   ]
  }
 ],
 "metadata": {
  "kernelspec": {
   "display_name": "Python 3",
   "language": "python",
   "name": "python3"
  },
  "language_info": {
   "codemirror_mode": {
    "name": "ipython",
    "version": 3
   },
   "file_extension": ".py",
   "mimetype": "text/x-python",
   "name": "python",
   "nbconvert_exporter": "python",
   "pygments_lexer": "ipython3",
   "version": "3.11.4"
  }
 },
 "nbformat": 4,
 "nbformat_minor": 2
}
