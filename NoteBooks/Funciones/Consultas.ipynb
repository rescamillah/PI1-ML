{
 "cells": [
  {
   "cell_type": "markdown",
   "metadata": {},
   "source": [
    "En este apartado se hicieron todos las tranformaciones necesarias para las funciones que va a consumir la API. Se tienen como fuentes de datos los archivos ya limpios: user_reviews_cleaned, steam_games_cleaned, user_items_cleaned. Se persigue la eficiencia y ligereza de estas consultas para facilitar el trabajo de la API.# Se i"
   ]
  },
  {
   "cell_type": "code",
   "execution_count": 22,
   "metadata": {},
   "outputs": [],
   "source": [
    "# Se importan las librerías\n",
    "import pandas as pd # Pandas para  trabajar con dataframe\n",
    "import ast # Para la evaluación de líneas literales de python"
   ]
  },
  {
   "cell_type": "code",
   "execution_count": null,
   "metadata": {},
   "outputs": [],
   "source": [
    "# Se cargan los archivos limpios en un dataframe\n",
    "df_Steam_Games =pd.read_csv('..\\\\..\\\\Archivos Limpios\\\\output_steam_games_limpio.csv') # Se carga en el dataframe nuestro archivo de games\n",
    "df_Users_Items =pd.read_csv('..\\\\..\\\\Archivos Limpios\\\\australian_users_items_limpio.csv') # Se carga en el dataframe nuestro archivo de items\n",
    "df_User_Review =pd.read_csv('..\\\\..\\\\Archivos Limpios\\\\australian_user_review_limpio.csv') # Se carga en el dataframe nuestro archivo de reviews"
   ]
  },
  {
   "cell_type": "code",
   "execution_count": 26,
   "metadata": {},
   "outputs": [],
   "source": [
    "# Por temas de recursos computacionales, se hace una muestra de 10000 registros\n",
    "df_Steam_Games = df_Steam_Games.head(10000)\n",
    "df_Users_Items = df_Users_Items.head(10000)\n",
    "df_User_Review = df_User_Review.head(10000)"
   ]
  },
  {
   "cell_type": "code",
   "execution_count": 27,
   "metadata": {},
   "outputs": [],
   "source": [
    "# En este apartado se trabaja la columna \"posted\", para convertir sus valores en fecha y eliminar aquellos registros que no sean fiables para el análisis\n",
    "df_Steam_Games['release_date'] = df_Steam_Games['release_date'].astype(str).str.replace(\"Posted \", '') # Se aplica la sistitución de la palabra posted por nada\n",
    "df_Steam_Games['release_date'] = df_Steam_Games['release_date'].astype(str).str.replace(\",\", '') # Se aplica la sistitución de la coma por nada\n",
    "df_Steam_Games['release_date'] = df_Steam_Games['release_date'].astype(str).str.replace(\".\", '') # Se aplica la sistitución de la coma por nada\n",
    "df_Steam_Games['release_date'] = pd.to_datetime(df_Steam_Games['release_date'], errors='coerce') # Se convierten los valores obtenidos en un formato tipo fecha\n",
    "df_Steam_Games = df_Steam_Games.loc[df_Steam_Games['release_date'].notna()] # Se eliminan los registros vacios de la columna posted\n",
    "# Debido a que nuestra temporalidad de análisis será anual, se procede a modificar la columna posted para solo obtener el año\n",
    "df_Steam_Games['year'] = df_Steam_Games['release_date'].dt.year.astype('Int64')"
   ]
  },
  {
   "cell_type": "markdown",
   "metadata": {},
   "source": [
    "# Rutinas\n",
    "\n",
    "1. PlayTimeGenre"
   ]
  },
  {
   "cell_type": "code",
   "execution_count": 29,
   "metadata": {},
   "outputs": [],
   "source": [
    "# Se unifican dos dataframe para obtener la información\n",
    "df_Unido = pd.merge(df_Users_Items, df_Steam_Games[['item_id', 'year', 'genres']], on='item_id', how='inner')\n",
    "\n",
    "#Agrupamos por genero y año de lanzamiento\n",
    "df_Unido = df_Unido.groupby(['year', 'genres'])['playtime_forever'].sum().reset_index()\n",
    "\n",
    "# Encontrar el género con más horas jugadas por año \n",
    "HorasMaximas = df_Unido.loc[df_Unido.groupby(['year', 'genres'])['playtime_forever'].idxmax()]\n",
    "\n",
    "# Ordenar el DataFrame resultante\n",
    "HorasMaximas = HorasMaximas.sort_values(by=['genres', 'playtime_forever', 'year'], ascending=[True, False, True])\n",
    "\n",
    "# Guardar el resultado en un archivo CSV\n",
    "HorasMaximas.to_csv('PlayTimeGenre.csv', index=False)"
   ]
  },
  {
   "cell_type": "markdown",
   "metadata": {},
   "source": [
    "2. UserForGenre"
   ]
  },
  {
   "cell_type": "code",
   "execution_count": 33,
   "metadata": {},
   "outputs": [],
   "source": [
    "# Se crea un nuevo dataframe más optimo para juegos\n",
    "df_game = df_Steam_Games.drop(['name', 'developer', 'tags','specs'],axis=1)\n",
    "\n",
    "# Merge de los DataFrames\n",
    "merged_data=pd.merge(df_Users_Items,df_game,left_on='item_id', right_on='item_id', how='right')\n",
    "\n",
    "merged_data.drop(['item_id'], axis=1, inplace=True)\n",
    "merged_data.dropna(inplace=True)\n",
    "\n",
    "merged_data['playtime_forever'] = merged_data['playtime_forever'].astype(int)\n",
    "merged_data['year'] = merged_data['year'].astype(int)\n",
    "\n",
    "#Encontrar el jugador con más horas jugadas por género y año\n",
    "max_hours_df = merged_data.loc[merged_data.groupby(['genres', 'year'])['playtime_forever'].idxmax()]\n",
    "\n",
    "#Filtrar las columnas necesarias\n",
    "max_hours_df = max_hours_df[['genres', 'year', 'user_id', 'playtime_forever']]\n",
    "\n",
    "#Segunda agrupación para obtener las horas jugadas por año para el usuario seleccionado\n",
    "max_hours = max_hours_df.groupby(['genres', 'year', 'user_id'])['playtime_forever'].sum().reset_index()\n",
    "\n",
    "max_hours.to_csv('UserForGenre.csv', index=False)"
   ]
  },
  {
   "cell_type": "markdown",
   "metadata": {},
   "source": [
    "3. UsersRecommend"
   ]
  },
  {
   "cell_type": "code",
   "execution_count": 35,
   "metadata": {},
   "outputs": [],
   "source": [
    "# Merge de los DataFrames\n",
    "df_merged = pd.merge(df_User_Review, df_Steam_Games, on='item_id', how='left')\n",
    "\n",
    "# Filtrar las filas que cumplen con las condiciones\n",
    "result = df_merged.loc[(df_merged['recommend'] == True) & (df_merged['sentiment_analysis'].isin([1, 2])),\n",
    "                           ['year_x', 'name']]\n",
    "\n",
    "# Renombrar la columna 'year_x' a 'year'\n",
    "result = result.rename(columns={'year_x': 'year'})\n",
    "\n",
    "# Agrupar por 'year' y 'name' y contar las ocurrencias\n",
    "grouped_result = result.groupby(['year', 'name']).size().reset_index(name='count')\n",
    "\n",
    "# Ordenar por 'year' y 'count' en orden descendente\n",
    "grouped_result = grouped_result.sort_values(by=['year', 'count'], ascending=[False, False])\n",
    "\n",
    "# Obtener el top 3 por año\n",
    "top3_by_year = grouped_result.groupby('year').head(3)\n",
    "\n",
    "# Guardar el resultado en un archivo CSV\n",
    "top3_by_year.to_csv('UsersRecommend.csv', index=False)"
   ]
  },
  {
   "cell_type": "markdown",
   "metadata": {},
   "source": [
    "4. UsersWorstDeveloper"
   ]
  },
  {
   "cell_type": "code",
   "execution_count": 38,
   "metadata": {},
   "outputs": [],
   "source": [
    "# Unir los DataFrames\n",
    "df_merged = pd.merge(df_User_Review, df_Steam_Games, on='item_id', how='left')\n",
    "\n",
    "# Filtrar las filas que cumplen con las condiciones\n",
    "df_filtered = df_merged.loc[(df_merged['recommend'] == False) & (df_merged['sentiment_analysis'] == 0),\n",
    "                           ['year_x', 'developer']]\n",
    " \n",
    "# Renombrar la columna 'year_x' a 'year'\n",
    "df_filtered = df_filtered.rename(columns={'year_x': 'year'})\n",
    "\n",
    "# Contar las ocurrencias de cada desarrolladora por año\n",
    "developer_counts = df_filtered.groupby(['year', 'developer']).size().reset_index(name='count')\n",
    "    \n",
    "# Ordenar por 'year' y 'count' en orden descendente\n",
    "grouped_result = developer_counts.sort_values(by=['year', 'count'], ascending=[False, False])    \n",
    "\n",
    "# Obtener el top 3 por año\n",
    "result_df = grouped_result.groupby('year').head(3)    \n",
    "\n",
    "# Guardar el resultado en un archivo CSV\n",
    "result_df.to_csv('UsersWorstDeveloper.csv', index=False)"
   ]
  },
  {
   "cell_type": "markdown",
   "metadata": {},
   "source": [
    "5. SentimentAnalisys"
   ]
  },
  {
   "cell_type": "code",
   "execution_count": 40,
   "metadata": {},
   "outputs": [],
   "source": [
    "# Merge de los DataFrames\n",
    "merged_df = pd.merge(df_Steam_Games, df_User_Review, on='item_id', how='inner')\n",
    "\n",
    "# Agrupar por desarrolladora y sentimiento, y contar las ocurrencias\n",
    "result_df = merged_df.groupby(['developer', 'sentiment_analysis']).size().reset_index(name='count')\n",
    "\n",
    "# Pivoteando el DataFrame para tener sentimientos como columnas\n",
    "result_df = result_df.pivot(index='developer', columns='sentiment_analysis', values='count').reset_index()\n",
    "\n",
    "# Renombrar las columnas según el formato deseado\n",
    "result_df.columns = ['developer', 'Negative', 'Neutral', 'Positive']\n",
    "\n",
    "# Rellenar NaN con 0\n",
    "result_df = result_df.fillna(0)\n",
    "\n",
    "# Convertir las columnas a tipo int\n",
    "result_df[['Negative', 'Neutral', 'Positive']] = result_df[['Negative', 'Neutral', 'Positive']].astype(int)\n",
    "\n",
    "# Guardar el resultado en un archivo CSV\n",
    "result_df.to_csv('sentiment_analysis.csv', index=False)"
   ]
  }
 ],
 "metadata": {
  "kernelspec": {
   "display_name": "Python 3",
   "language": "python",
   "name": "python3"
  },
  "language_info": {
   "codemirror_mode": {
    "name": "ipython",
    "version": 3
   },
   "file_extension": ".py",
   "mimetype": "text/x-python",
   "name": "python",
   "nbconvert_exporter": "python",
   "pygments_lexer": "ipython3",
   "version": "3.11.4"
  }
 },
 "nbformat": 4,
 "nbformat_minor": 2
}
