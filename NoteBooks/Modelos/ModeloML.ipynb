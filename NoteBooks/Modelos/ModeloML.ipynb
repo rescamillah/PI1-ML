{
 "cells": [
  {
   "cell_type": "markdown",
   "metadata": {},
   "source": [
    "Modelos ML, en este archivo se realizan las operaciones necesarias para aplicar el modelo de Machine Learning y recomendaicones"
   ]
  },
  {
   "cell_type": "code",
   "execution_count": null,
   "metadata": {},
   "outputs": [],
   "source": [
    "# Se importan las librerías necesarias para trabajar\n",
    "import pandas as pd # Librería de pandas para el uso de dataframes\n",
    "# librerías de SKlearn para aplicar los modelos de ML\n",
    "from sklearn.metrics.pairwise        import cosine_similarity\n",
    "from sklearn.metrics.pairwise        import linear_kernel\n",
    "from sklearn.feature_extraction.text import TfidfVectorizer\n",
    "from sklearn.feature_extraction.text import CountVectorizer"
   ]
  },
  {
   "cell_type": "code",
   "execution_count": 24,
   "metadata": {},
   "outputs": [],
   "source": [
    "# Se procede a cargar los archivos de csv limpios en un dataframe\n",
    "df_Steam_Games =pd.read_csv('..\\\\..\\\\Archivos Limpios\\\\output_steam_games_limpio.csv') # Se carga en el dataframe nuestro archivo de items\n"
   ]
  },
  {
   "cell_type": "code",
   "execution_count": 25,
   "metadata": {},
   "outputs": [],
   "source": [
    "# Se hacen algunos trabajos adicionales en el dataframe de steam games\n",
    "df_Steam_Games = df_Steam_Games.loc[:, [\"specs\", \"item_id\", \"name\"]] # Seleccionamos las columnas necesarias\n",
    "df_Steam_Games[\"item_id\"] = df_Steam_Games[\"item_id\"].astype(int) # Se convierte el item id a entero\n",
    "df_Steam_Games['specs'] = df_Steam_Games['specs'].apply(lambda x: str(x).replace('[', '').replace(']', '').replace(\"'\", '')) # Se eliminan los caracteres especiales de la columna specs"
   ]
  },
  {
   "cell_type": "markdown",
   "metadata": {},
   "source": [
    "Modelo de machine learning para recomendación de juegos\n",
    "\n",
    "Creación de un Vectorizador de Texto (CountVectorizer):\n",
    "\n",
    "Propósito: Convertir texto (en este caso, la columna 'specs') en vectores numéricos.\n",
    "\n",
    "Proceso: El vectorizador asigna un número a cada palabra única presente en el texto y cuenta su frecuencia. Cada documento (en este caso, cada juego) se representa como un vector donde cada posición corresponde a la frecuencia de una palabra.\n",
    "\n",
    "Importancia: Esta representación vectorial es necesaria para calcular la similitud del coseno, ya que este método trabaja con vectores numéricos."
   ]
  },
  {
   "cell_type": "code",
   "execution_count": 26,
   "metadata": {},
   "outputs": [],
   "source": [
    "# Se obtiene solo una muestra para el procesamiento de la información\n",
    "df_RecomendacionxJuego = df_Steam_Games.head(4000)\n",
    "df_RecomendacionxUsuario = df_Steam_Games.head(4000)"
   ]
  },
  {
   "cell_type": "code",
   "execution_count": 27,
   "metadata": {},
   "outputs": [],
   "source": [
    "# Crear un vectorizador de texto\n",
    "cv = CountVectorizer() # Se instancia el contador de vectores\n",
    "vectores_juego = cv.fit_transform(df_RecomendacionxJuego['specs']).toarray()\n",
    "vectores_Usuario = cv.fit_transform(df_RecomendacionxUsuario['specs']).toarray()\n"
   ]
  },
  {
   "cell_type": "markdown",
   "metadata": {},
   "source": [
    "Cálculo de la Similitud del Coseno entre Vectores:\n",
    "\n",
    "Propósito: Evaluar la similitud entre los vectores numéricos de diferentes juegos.\n",
    "\n",
    "Proceso: Se utiliza la métrica de similitud del coseno, que mide el coseno del ángulo entre dos vectores. Cuanto más cercano a 1, más similares son los vectores.\n",
    "\n",
    "Importancia: La similitud del coseno es clave para determinar qué tan parecidos son los juegos entre sí. Esto se utiliza para generar recomendaciones, ya que los juegos con vectores similares son considerados como recomendaciones potenciales."
   ]
  },
  {
   "cell_type": "code",
   "execution_count": 28,
   "metadata": {},
   "outputs": [],
   "source": [
    "# Calcular la similitud del coseno entre vectores\n",
    "similitud_juego = cosine_similarity(vectores_juego)\n",
    "similitud_usuario = cosine_similarity(vectores_Usuario)"
   ]
  },
  {
   "cell_type": "markdown",
   "metadata": {},
   "source": [
    "A continuación, se genera una función (recomendacion) que toma como entrada el ID de un juego y devuelve una lista de los cinco juegos más recomendados basándose en la similitud del coseno entre vectores.La función devuelve la lista de títulos recomendados."
   ]
  },
  {
   "cell_type": "code",
   "execution_count": 29,
   "metadata": {},
   "outputs": [],
   "source": [
    "# Se genera la función de recomendación\n",
    "def recomendacionPorJuego(juego): # Se define la función de recomendación\n",
    "    #Se busca el índice del juego en el DataFrame original. Este índice es utilizado para acceder a la fila correspondiente en la matriz de similitud.\n",
    "    indice_juego = df_Steam_Games[df_Steam_Games[\"item_id\"] == juego].index[0]\n",
    "    \n",
    "    #Cálculo de Similitudes: Se obtienen las distancias de similitud entre el juego de entrada y todos los demás juegos en el conjunto de datos. \n",
    "    distancia = similitud_juego[indice_juego]\n",
    "    \n",
    "    #Las distancias se ordenan de manera descendente, y se seleccionan los cinco juegos más similares (excluyendo el juego de entrada)\n",
    "    lista_juegos = sorted(list(enumerate(distancia)), reverse=True, key=lambda x: x[1])[1:6]\n",
    "    \n",
    "    #Salida. Devuelve la lista de títulos recomendados.\n",
    "    recomendaciones = [df_Steam_Games.iloc[i[0]]['name'] for i in lista_juegos]\n",
    "    \n",
    "    return recomendaciones # Se retorna la lista de titulos"
   ]
  },
  {
   "cell_type": "code",
   "execution_count": 30,
   "metadata": {},
   "outputs": [
    {
     "name": "stderr",
     "output_type": "stream",
     "text": [
      "C:\\Users\\Windows10\\AppData\\Local\\Temp\\ipykernel_7820\\868046866.py:2: SettingWithCopyWarning: \n",
      "A value is trying to be set on a copy of a slice from a DataFrame.\n",
      "Try using .loc[row_indexer,col_indexer] = value instead\n",
      "\n",
      "See the caveats in the documentation: https://pandas.pydata.org/pandas-docs/stable/user_guide/indexing.html#returning-a-view-versus-a-copy\n",
      "  df_RecomendacionxJuego['Recomendaciones'] = df_RecomendacionxJuego['item_id'].apply(recomendacion)\n"
     ]
    }
   ],
   "source": [
    "# Aplicar la función a la columna 'item_id' y crear una nueva columna 'Recomendaciones'\n",
    "df_RecomendacionxJuego['Recomendaciones'] = df_RecomendacionxJuego['item_id'].apply(recomendacion)"
   ]
  },
  {
   "cell_type": "code",
   "execution_count": 31,
   "metadata": {},
   "outputs": [
    {
     "name": "stderr",
     "output_type": "stream",
     "text": [
      "C:\\Users\\Windows10\\AppData\\Local\\Temp\\ipykernel_7820\\2697776106.py:2: SettingWithCopyWarning: \n",
      "A value is trying to be set on a copy of a slice from a DataFrame\n",
      "\n",
      "See the caveats in the documentation: https://pandas.pydata.org/pandas-docs/stable/user_guide/indexing.html#returning-a-view-versus-a-copy\n",
      "  df_RecomendacionxJuego.drop(columns=['name', 'specs'], inplace=True)\n"
     ]
    }
   ],
   "source": [
    "# Eliminar columnas innecesarias para disminuir el tamaño del archivo de salida\n",
    "df_RecomendacionxJuego.drop(columns=['name', 'specs'], inplace=True)"
   ]
  },
  {
   "cell_type": "code",
   "execution_count": 34,
   "metadata": {},
   "outputs": [],
   "source": [
    "# Se guarda el DataFrame resultante en un nuevo archivo CSV\n",
    "df_RecomendacionxJuego.to_csv('..\\\\..\\\\Modelos_Consultas_Funciones\\\\Recomendación_por_Juego.csv', index=False)"
   ]
  }
 ],
 "metadata": {
  "kernelspec": {
   "display_name": "Python 3",
   "language": "python",
   "name": "python3"
  },
  "language_info": {
   "codemirror_mode": {
    "name": "ipython",
    "version": 3
   },
   "file_extension": ".py",
   "mimetype": "text/x-python",
   "name": "python",
   "nbconvert_exporter": "python",
   "pygments_lexer": "ipython3",
   "version": "3.11.4"
  }
 },
 "nbformat": 4,
 "nbformat_minor": 2
}
